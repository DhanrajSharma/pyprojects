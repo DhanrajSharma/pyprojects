{
 "cells": [
  {
   "cell_type": "code",
   "execution_count": 1,
   "id": "61694764-d239-4887-a063-afa22dcc41c3",
   "metadata": {},
   "outputs": [],
   "source": [
    "import qrcode as qr"
   ]
  },
  {
   "cell_type": "code",
   "execution_count": 2,
   "id": "3076eb08-cfb5-4d3e-9125-8dbced394100",
   "metadata": {},
   "outputs": [],
   "source": [
    "img = qr.make(\"https://www.facebook.com/DhanrajSharma9625\")"
   ]
  },
  {
   "cell_type": "code",
   "execution_count": null,
   "id": "cf0d20ed-4463-4cf4-a3fe-1fa74d5ce53e",
   "metadata": {},
   "outputs": [],
   "source": [
    "img.save(\"\")"
   ]
  }
 ],
 "metadata": {
  "kernelspec": {
   "display_name": "Python 3 (ipykernel)",
   "language": "python",
   "name": "python3"
  },
  "language_info": {
   "codemirror_mode": {
    "name": "ipython",
    "version": 3
   },
   "file_extension": ".py",
   "mimetype": "text/x-python",
   "name": "python",
   "nbconvert_exporter": "python",
   "pygments_lexer": "ipython3",
   "version": "3.12.4"
  }
 },
 "nbformat": 4,
 "nbformat_minor": 5
}
